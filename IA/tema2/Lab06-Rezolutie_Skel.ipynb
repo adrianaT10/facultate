{
 "cells": [
  {
   "cell_type": "markdown",
   "metadata": {},
   "source": [
    "# Logica cu predicate (2). Rezoluție\n",
    " - Andrei Olaru\n",
    " - Tudor Berariu\n"
   ]
  },
  {
   "cell_type": "markdown",
   "metadata": {},
   "source": [
    "## Scopul laboratorului\n",
    "\n",
    "Familiarizarea cu mecanismul rezoluției și cu strategiile de rezoluție.\n",
    "\n",
    "#### Resurse\n",
    "\n",
    "Cursul 5 de IA slides 34-44."
   ]
  },
  {
   "cell_type": "markdown",
   "metadata": {},
   "source": [
    "### Cerința 1\n",
    "\n",
    "* din notebook-ul de la Laboratorul 5 faceți Download as &rarr; Python și salvați fișierul ca `Lab05.py`, în acest director.\n",
    "* adăugați de asemenea în acest director fișierul `Lab05tester.py` (**descărcați din nou** de pe site)."
   ]
  },
  {
   "cell_type": "code",
   "execution_count": 1,
   "metadata": {
    "collapsed": false
   },
   "outputs": [
    {
     "name": "stdout",
     "output_type": "stream",
     "text": [
      ">>> Test batch [0]\n",
      "Test 0: OK\n",
      "Test 1: OK\n",
      "Test 2: OK\n",
      "Test 3: OK\n",
      "Test 4: OK\n",
      "Test 5: OK\n",
      "Test 6: OK\n",
      "Test 7: OK\n",
      "Test 8: OK\n",
      "Test 9: OK\n",
      "Test 10: OK\n",
      "Test 11: OK\n",
      "Test 12: OK\n",
      "Test 13: OK\n",
      "Test 14: OK\n",
      "Test 15: OK\n",
      "Test 16: OK\n",
      "Test 17: OK\n",
      "Test 18: OK\n",
      "Test 19: OK\n",
      "Test 20: OK\n",
      "Test 21: OK\n",
      "Test 22: OK\n",
      "Test 23: OK\n",
      ">>>  24 / 24 tests successful.\n",
      "(SI (SAU NOTP(?x) Q(?x)) T(?y, <built-in function add>[1,2]))\n",
      ">>> Test batch [1]\n",
      "Test 0: OK\n",
      "Test 1: OK\n",
      "Test 2: OK\n",
      "Test 3: OK\n",
      "Test 4: OK\n",
      ">>>  5 / 5 tests successful.\n",
      ">>> Test batch [2]\n",
      "Test 0: OK\n",
      "Test 1: OK\n",
      "Test 2: OK\n",
      "Test 3: OK\n",
      "Test 4: OK\n",
      "Test 5: OK\n",
      "Test 6: OK\n",
      ">>>  7 / 7 tests successful.\n",
      ">>> Test batch [3]\n",
      "Test 0: OK, got <False>\n",
      "Test 1: OK, got <{x -> A}>\n",
      "Test 2: OK, got <{x -> A}>\n",
      "Test 3: OK, got <{x -> A}>\n",
      "Test 4: OK, got <{x -> A}>\n",
      "Test 5: OK, got <{x -> <built-in function add>[?Z,5]}>\n",
      "Test 6: OK, got <{z -> C, x -> A, y -> B}>\n",
      "Test 7: OK, got <{x -> 2, y -> 3}>\n",
      "Test 8: OK, got <False>\n",
      "Test 9: OK, got <False>\n",
      ">>>  10 / 10 tests successful.\n"
     ]
    }
   ],
   "source": [
    "# TODO\n",
    "from Lab05 import *"
   ]
  },
  {
   "cell_type": "code",
   "execution_count": 2,
   "metadata": {
    "collapsed": false
   },
   "outputs": [
    {
     "name": "stdout",
     "output_type": "stream",
     "text": [
      "(SAU P() P() P() P())\n",
      "Test 0: OK\n",
      "Test 1: OK\n",
      "Test 2: OK\n"
     ]
    },
    {
     "data": {
      "text/plain": [
       "True"
      ]
     },
     "execution_count": 2,
     "metadata": {},
     "output_type": "execute_result"
    }
   ],
   "source": [
    "# Testare conectori cu mai multe propoziții și replace_args()\n",
    "from Lab05tester import *\n",
    "\n",
    "dummy = make_atom(\"P\")\n",
    "dummy2 = make_atom(\"Q\", make_var(\"x\"))\n",
    "L1 = [dummy, dummy, dummy, dummy]\n",
    "L2 = [dummy2, dummy2, dummy2, dummy2]\n",
    "\n",
    "f = make_or(*L1)\n",
    "print_formula(f) # trebuie să dea ceva gen (V P() P() P() P())\n",
    "test(\"get_args(f)\", L1, globals(), 0)\n",
    "f2 = replace_args(f, L2)\n",
    "test(\"get_args(f)\", L1, globals(), 1) # tests f did not change\n",
    "test(\"get_args(f2)\", L2, globals(), 2) # tests arguments changed ok"
   ]
  },
  {
   "cell_type": "code",
   "execution_count": 3,
   "metadata": {
    "collapsed": false
   },
   "outputs": [],
   "source": [
    "from copy import deepcopy\n",
    "\n",
    "# în această celulă se găsesc câteva funcții utilizate intern\n",
    "\n",
    "def check_term(T):\n",
    "    return (is_constant(T) and get_value(T) is not None) or \\\n",
    "            (is_variable(T) and get_name(T) is not None) or \\\n",
    "            (is_function_call(T) and callable(get_head(T)) and not [t for t in get_args(T) if not check_term(t)])\n",
    "def check_atom(A):\n",
    "    return is_atom(A) and get_head(A) is not None and not [t for t in get_args(A) if not check_term(t)]\n",
    "dummy = make_atom(\"P\")\n",
    "and_name = get_head(make_and(dummy, dummy))\n",
    "or_name = get_head(make_and(dummy, dummy))\n",
    "neg_name = get_head(make_neg(dummy))\n",
    "def check_sentence(S):\n",
    "    return is_sentence(S) and (\n",
    "        check_atom(S) or\n",
    "        ((get_head(S) == and_name or get_head(S) == or_name) and len(get_args(S)) >= 2 and\n",
    "             not [s for s in get_args(S) if not check_sentence(s)])\n",
    "        or\n",
    "        (get_head(S) == neg_name and len(get_args(S)) == 1 and check_sentence(get_args(S)[0]))\n",
    "        )\n",
    "\n",
    "def make_statement(conclusion, hypotheses):\n",
    "    L = list(hypotheses)\n",
    "    if not L:\n",
    "        return conclusion\n",
    "    L = [make_neg(s) for s in L]\n",
    "    L.append(conclusion)\n",
    "    return make_or(*L)\n",
    "\n",
    "def add_statement(kb, conclusion, *hypotheses):\n",
    "    s = make_statement(conclusion, hypotheses)\n",
    "    if check_sentence(s) is not None:\n",
    "        kb.append(s)\n",
    "        print(\"Added statement \" + print_formula(s, True))\n",
    "        return True\n",
    "    print(\"Sentence does not check out \", result)\n",
    "    return False\n",
    "\n",
    "var_no = 0;\n",
    "def init_KB():\n",
    "    global var_no\n",
    "    var_no = 0\n",
    "    return []\n",
    "\n",
    "def assign_next_var_name():\n",
    "    global var_no\n",
    "    var_no += 1\n",
    "    return \"v\" + str(var_no)\n",
    "\n",
    "def gather_vars(S):\n",
    "    if is_variable(S):\n",
    "        return [get_name(S)]\n",
    "    if has_args(S):\n",
    "        res = []\n",
    "        for a in get_args(S):\n",
    "            res = res + gather_vars(a)\n",
    "        return res\n",
    "    return []\n",
    "\n",
    "def make_unique_var_names(KB):\n",
    "    for idx in range(len(KB)):\n",
    "        S = KB[idx]\n",
    "        varL = gather_vars(S)\n",
    "        subst = {}\n",
    "        for var in varL:\n",
    "            subst[var] = make_var(assign_next_var_name())\n",
    "        KB[idx] = substitute(S, subst)\n",
    "            \n",
    "            \n",
    "def print_KB(KB):\n",
    "    print(\"KB now:\")\n",
    "    for s in KB:\n",
    "        print(\"\\t\\t\\t\" + print_formula(s, True))\n"
   ]
  },
  {
   "cell_type": "code",
   "execution_count": 4,
   "metadata": {
    "collapsed": false
   },
   "outputs": [
    {
     "name": "stdout",
     "output_type": "stream",
     "text": [
      "Added statement USGeneral(West)\n",
      "Added statement USGeneral(General_Awesome)\n",
      "Added statement Awesome(General_Awesome)\n",
      "Added statement Enemy(Nono, America)\n",
      "Added statement Missle(M1)\n",
      "Added statement Owns(Nono, M1)\n",
      "Added statement (SAU NOTUSGeneral(?x) American(?x))\n",
      "Added statement (SAU NOTMissle(?x) Weapon(?x))\n",
      "Added statement (SAU NOTOwns(?x, ?y) NOTMissle(?y) Sells(West, ?y, ?x))\n",
      "Added statement (SAU NOTWeapon(?y) NOTSells(?x, ?y, ?z) NOTHostile(?z) NOTAmerican(?x) Criminal(?x))\n",
      "Added statement (SAU NOTEnemy(?x, America) Hostile(?x))\n",
      "Added statement (SAU NOTAmerican(?x) NOTAwesome(?x) Awesome(America))\n",
      "KB now:\n",
      "\t\t\tUSGeneral(West)\n",
      "\t\t\tUSGeneral(General_Awesome)\n",
      "\t\t\tAwesome(General_Awesome)\n",
      "\t\t\tEnemy(Nono, America)\n",
      "\t\t\tMissle(M1)\n",
      "\t\t\tOwns(Nono, M1)\n",
      "\t\t\t(SAU NOTUSGeneral(?v2) American(?v2))\n",
      "\t\t\t(SAU NOTMissle(?v4) Weapon(?v4))\n",
      "\t\t\t(SAU NOTOwns(?v9, ?v8) NOTMissle(?v8) Sells(West, ?v8, ?v9))\n",
      "\t\t\t(SAU NOTWeapon(?v12) NOTSells(?v16, ?v12, ?v14) NOTHostile(?v14) NOTAmerican(?v16) Criminal(?v16))\n",
      "\t\t\t(SAU NOTEnemy(?v18, America) Hostile(?v18))\n",
      "\t\t\t(SAU NOTAmerican(?v20) NOTAwesome(?v20) Awesome(America))\n"
     ]
    }
   ],
   "source": [
    "# KB 1\n",
    "# based on an example in Artificial Intelligence - A Modern Approach\n",
    "KB_America = init_KB()\n",
    "#0 Mr West is a US general\n",
    "add_statement(KB_America, make_atom(\"USGeneral\", make_const(\"West\")))\n",
    "#1 General Awesome is also a US general\n",
    "add_statement(KB_America, make_atom(\"USGeneral\", make_const(\"General_Awesome\")))\n",
    "#2 General Awesome is Awesome\n",
    "add_statement(KB_America, make_atom(\"Awesome\", make_const(\"General_Awesome\")))\n",
    "#3 Nono is an enemy of America\n",
    "add_statement(KB_America, make_atom(\"Enemy\", make_const(\"Nono\"), make_const(\"America\")))\n",
    "#4 M1 is a type of missle\n",
    "add_statement(KB_America, make_atom(\"Missle\", make_const(\"M1\")))\n",
    "#5 Nono has the M1 missle\n",
    "add_statement(KB_America, make_atom(\"Owns\", make_const(\"Nono\"), make_const(\"M1\")))\n",
    "\n",
    "#6 any US general is an American\n",
    "add_statement(KB_America, make_atom(\"American\", make_var(\"x\")), make_atom(\"USGeneral\", make_var(\"x\")))\n",
    "#7 any missle is a weapon\n",
    "add_statement(KB_America, make_atom(\"Weapon\", make_var(\"x\")), make_atom(\"Missle\", make_var(\"x\")))\n",
    "#8 if anyone owns a missle, it is General West that sold them that missle\n",
    "add_statement(KB_America, make_atom(\"Sells\", make_const(\"West\"), make_var(\"y\"), make_var(\"x\")), make_atom(\"Owns\", make_var(\"x\"), make_var(\"y\")), make_atom(\"Missle\", make_var(\"y\")))\n",
    "#9 any American who sells weapons to a hostile is a criminal\n",
    "add_statement(KB_America, make_atom(\"Criminal\", make_var(\"x\")), make_atom(\"Weapon\", make_var(\"y\")), make_atom(\"Sells\", make_var(\"x\"), make_var(\"y\"), make_var(\"z\")), make_atom(\"Hostile\", make_var(\"z\")), make_atom(\"American\", make_var(\"x\")))\n",
    "#10 any enemy of America is called a hostile\n",
    "add_statement(KB_America, make_atom(\"Hostile\", make_var(\"x\")), make_atom(\"Enemy\", make_var(\"x\"), make_const(\"America\")))\n",
    "#11 America is awesome if at least an American is awesome\n",
    "add_statement(KB_America, make_atom(\"Awesome\", make_const(\"America\")), make_atom(\"American\", make_var(\"x\")), make_atom(\"Awesome\", make_var(\"x\")))\n",
    "\n",
    "make_unique_var_names(KB_America)\n",
    "\n",
    "print_KB(KB_America)\n"
   ]
  },
  {
   "cell_type": "code",
   "execution_count": 5,
   "metadata": {
    "collapsed": false
   },
   "outputs": [
    {
     "name": "stdout",
     "output_type": "stream",
     "text": [
      "Added statement (SAU NOTHorse(?x) NOTDog(?y) Faster(?x, ?y))\n",
      "Added statement (SAU NOTRabbit(?z) Faster(<function the_greyhound at 0x7fa2ac5e4378>[], ?z))\n",
      "Added statement Horse(Harry)\n",
      "Added statement Rabbit(Ralph)\n",
      "Added statement Greyhound(<function the_greyhound at 0x7fa2ac5e4378>[])\n",
      "Added statement (SAU NOTGreyhound(?y) Dog(?y))\n",
      "Added statement (SAU NOTFaster(?x, ?y) NOTFaster(?y, ?z) Faster(?x, ?z))\n",
      "KB now:\n",
      "\t\t\t(SAU NOTHorse(?v3) NOTDog(?v4) Faster(?v3, ?v4))\n",
      "\t\t\t(SAU NOTRabbit(?v6) Faster(<function the_greyhound at 0x7fa2ac5e4378>[], ?v6))\n",
      "\t\t\tHorse(Harry)\n",
      "\t\t\tRabbit(Ralph)\n",
      "\t\t\tGreyhound(<function the_greyhound at 0x7fa2ac5e4378>[])\n",
      "\t\t\t(SAU NOTGreyhound(?v8) Dog(?v8))\n",
      "\t\t\t(SAU NOTFaster(?v13, ?v11) NOTFaster(?v11, ?v14) Faster(?v13, ?v14))\n"
     ]
    }
   ],
   "source": [
    "# KB 2\n",
    "# din cursul de IA\n",
    "KB_Faster = init_KB()\n",
    "\n",
    "def the_greyhound():\n",
    "    return make_const(\"Greg\")\n",
    "\n",
    "#0 horses are faster than dogs\n",
    "add_statement(KB_Faster, make_atom(\"Faster\", make_var(\"x\"), make_var(\"y\")), make_atom(\"Horse\", make_var(\"x\")), make_atom(\"Dog\", make_var(\"y\")))\n",
    "#1 there is a greyhound that is faster than any rabbit\n",
    "add_statement(KB_Faster, make_atom(\"Faster\", make_function_call(the_greyhound), make_var(\"z\")), make_atom(\"Rabbit\", make_var(\"z\")))\n",
    "#2 Harry is a horse\n",
    "add_statement(KB_Faster, make_atom(\"Horse\", make_const(\"Harry\")))\n",
    "#3 Ralph is a rabbit\n",
    "add_statement(KB_Faster, make_atom(\"Rabbit\", make_const(\"Ralph\")))\n",
    "#4 Greg is a greyhound\n",
    "add_statement(KB_Faster, make_atom(\"Greyhound\", make_function_call(the_greyhound)))\n",
    "#5 A greyhound is a dog\n",
    "add_statement(KB_Faster, make_atom(\"Dog\", make_var(\"y\")), make_atom(\"Greyhound\", make_var(\"y\")))\n",
    "#6 transitivity\n",
    "add_statement(KB_Faster, make_atom(\"Faster\", make_var(\"x\"), make_var(\"z\")),\n",
    "              make_atom(\"Faster\", make_var(\"x\"), make_var(\"y\")), make_atom(\"Faster\", make_var(\"y\"), make_var(\"z\")))\n",
    "\n",
    "make_unique_var_names(KB_Faster)\n",
    "\n",
    "print_KB(KB_Faster)\n"
   ]
  },
  {
   "cell_type": "code",
   "execution_count": 6,
   "metadata": {
    "collapsed": false
   },
   "outputs": [
    {
     "name": "stdout",
     "output_type": "stream",
     "text": [
      "Added statement (SAU NOTP(?x) Q(?x))\n",
      "Added statement P(A)\n",
      "KB now:\n",
      "\t\t\t(SAU NOTP(?v2) Q(?v2))\n",
      "\t\t\tP(A)\n"
     ]
    }
   ],
   "source": [
    "KB_test = init_KB()\n",
    "add_statement(KB_test, make_atom(\"Q\", make_var(\"x\")), make_atom(\"P\", make_var(\"x\")))\n",
    "add_statement(KB_test, make_atom(\"P\", make_const(\"A\")))\n",
    "\n",
    "make_unique_var_names(KB_test)\n",
    "print_KB(KB_test)"
   ]
  },
  {
   "cell_type": "markdown",
   "metadata": {},
   "source": [
    "### Cerința 2\n",
    "\n",
    "* Implementați funcția `resolves`, care primește două clauze (literali sau disjuncții de literali) și întoarce `False` dacă cele două clauze nu rezolvă, altfel un tuplu care conține literalii care rezolvă, din cele două clauze, și substituția sub care aceștia rezolvă."
   ]
  },
  {
   "cell_type": "code",
   "execution_count": 15,
   "metadata": {
    "collapsed": false
   },
   "outputs": [
    {
     "name": "stdout",
     "output_type": "stream",
     "text": [
      ">>> Test batch [4]\n",
      "Test 0: OK, got <(USGeneral(General_Awesome), NOTUSGeneral(?v2), {v2 -> General_Awesome}>\n",
      "Test 1: OK, got <(Owns(Nono, M1), NOTOwns(?v9, ?v8), {v9 -> Nono, v8 -> M1}>\n",
      "Test 2: OK, got <(NOTAmerican(?v16), American(?v2), {v16 -> ?v2}>\n",
      "Test 3: OK, got <(Enemy(Nono, America), NOTEnemy(?v18, America), {v18 -> Nono}>\n",
      "Test 4: OK, got <False>\n",
      "Test 5: OK, got <False>\n",
      "Test 6: OK, got <{}>\n",
      "Test 7: OK, got <{}>\n",
      ">>>  8 / 8 tests successful.\n"
     ]
    }
   ],
   "source": [
    "def is_positive_literal(L):\n",
    "    return is_atom(L)\n",
    "def is_negative_literal(L):\n",
    "    global neg_name\n",
    "    return get_head(L) == neg_name and is_positive_literal(get_args(L)[0])\n",
    "def is_literal(L):\n",
    "    return is_positive_literal(L) or is_negative_literal(L)\n",
    "\n",
    "def resolves(C1, C2):\n",
    "    #print(\"testing \" + print_formula(C1, True) + \" and \" + print_formula(C2, True))\n",
    "    \n",
    "    # întoarce un tuplu (literal-din-C1, literal-din-C2, substituție)\n",
    "    # unde literal-din-C1 și literal-din-C2 unifică sub substituție\n",
    "    res = unify(C1, C2)\n",
    "    if res != False and res != None:\n",
    "        return res\n",
    "    \n",
    "    if is_atom(C1) and is_atom(C2):\n",
    "        return False\n",
    "    if not is_literal(C1):\n",
    "        args1 = get_args(C1)\n",
    "    else:\n",
    "        args1 = [C1]\n",
    "\n",
    "    if not is_literal(C2):\n",
    "        args2 = get_args(C2)\n",
    "    else:\n",
    "        args2 = [C2]\n",
    "        \n",
    "        \n",
    "    for arg1 in args1:\n",
    "        for arg2 in args2:\n",
    "            if is_negative_literal(arg1):\n",
    "                a1 = get_args(arg1)[0]\n",
    "                if is_positive_literal(arg2):\n",
    "                    res = unify(a1, arg2)\n",
    "                    if res != None and res != False:\n",
    "                        return (arg1, arg2, res)\n",
    "            else:\n",
    "                if is_negative_literal(arg2):\n",
    "                    a2 = get_args(arg2)[0]\n",
    "                    res = unify(arg1, a2)\n",
    "                    if res != None and res != False:\n",
    "                        return (arg1, arg2, res)\n",
    "    \n",
    "    return False\n",
    "\n",
    "# Test!\n",
    "test_batch(4, globals())"
   ]
  },
  {
   "cell_type": "code",
   "execution_count": 16,
   "metadata": {
    "collapsed": false
   },
   "outputs": [],
   "source": [
    "# prints a 5-tuple resolvent representation (see below)\n",
    "def print_r(R):\n",
    "    if R is None:\n",
    "        print(\"no resolvent\")\n",
    "    else:\n",
    "        print(\"resolvent: \" + print_formula(R[2], True) + \"/\" + print_formula(R[3], True) + str(R[4]) \\\n",
    "                        + \"\\n\\t\\t in \" + print_formula(R[0], True) + \"\\n\\t\\t and \" + print_formula(R[1], True))\n"
   ]
  },
  {
   "cell_type": "markdown",
   "metadata": {},
   "source": [
    "### Cerința 3\n",
    "\n",
    "* implementați partea lipsă din funcția `solve_problem`, utilizând o strategie de rezoluție la alegere pentru a alege două clauze care rezolvă, și adăugând rezultatul pasului de rezoluție la baza de cunoștințe."
   ]
  },
  {
   "cell_type": "code",
   "execution_count": 47,
   "metadata": {
    "collapsed": false
   },
   "outputs": [
    {
     "name": "stdout",
     "output_type": "stream",
     "text": [
      "resolvent: NOTFaster(Harry, Ralph)/Faster(?v3, ?v4){'v3': ('CONST', 'Harry'), 'v4': ('CONST', 'Ralph')}\n",
      "\t\t in NOTFaster(Harry, Ralph)\n",
      "\t\t and (SAU NOTHorse(?v3) NOTDog(?v4) Faster(?v3, ?v4))\n",
      "Added: (SAU NOTHorse(Harry) NOTDog(Ralph))\n",
      "resolvent: NOTHorse(Harry)/Horse(Harry){}\n",
      "\t\t in (SAU NOTHorse(Harry) NOTDog(Ralph))\n",
      "\t\t and Horse(Harry)\n",
      "Added: NOTDog(Ralph)\n",
      "resolvent: NOTDog(Ralph)/Dog(?v8){'v8': ('CONST', 'Ralph')}\n",
      "\t\t in NOTDog(Ralph)\n",
      "\t\t and (SAU NOTGreyhound(?v8) Dog(?v8))\n",
      "Added: NOTGreyhound(Ralph)\n",
      "resolvent: NOTDog(Ralph)/Dog(?v8){'v8': ('CONST', 'Ralph')}\n",
      "\t\t in (SAU NOTHorse(Harry) NOTDog(Ralph))\n",
      "\t\t and (SAU NOTGreyhound(?v8) Dog(?v8))\n",
      "Added: (SAU NOTHorse(Harry) NOTGreyhound(Ralph))\n",
      "resolvent: NOTHorse(Harry)/Horse(Harry){}\n",
      "\t\t in (SAU NOTHorse(Harry) NOTGreyhound(Ralph))\n",
      "\t\t and Horse(Harry)\n",
      "Added: NOTGreyhound(Ralph)\n",
      "resolvent: NOTFaster(Harry, Ralph)/Faster(?v13, ?v14){'v14': ('CONST', 'Ralph'), 'v13': ('CONST', 'Harry')}\n",
      "\t\t in NOTFaster(Harry, Ralph)\n",
      "\t\t and (SAU NOTFaster(?v13, ?v11) NOTFaster(?v11, ?v14) Faster(?v13, ?v14))\n",
      "Added: (SAU NOTFaster(Harry, ?v11) NOTFaster(?v11, Ralph))\n",
      "resolvent: NOTFaster(Harry, ?v11)/Faster(?v3, ?v4){'v3': ('CONST', 'Harry'), 'v11': ('VAR', 'v4')}\n",
      "\t\t in (SAU NOTFaster(Harry, ?v11) NOTFaster(?v11, Ralph))\n",
      "\t\t and (SAU NOTHorse(?v3) NOTDog(?v4) Faster(?v3, ?v4))\n",
      "Added: (SAU NOTFaster(?v4, Ralph) NOTHorse(Harry) NOTDog(?v4))\n",
      "resolvent: NOTFaster(?v4, Ralph)/Faster(?v3, ?v4){'v3': ('CONST', 'Ralph'), 'v4': ('CONST', 'Ralph')}\n",
      "\t\t in (SAU NOTFaster(?v4, Ralph) NOTHorse(Harry) NOTDog(?v4))\n",
      "\t\t and (SAU NOTHorse(?v3) NOTDog(?v4) Faster(?v3, ?v4))\n",
      "Added: (SAU NOTHorse(Harry) NOTDog(Ralph) NOTHorse(Ralph) NOTDog(Ralph))\n",
      "resolvent: NOTHorse(Harry)/Horse(Harry){}\n",
      "\t\t in (SAU NOTHorse(Harry) NOTDog(Ralph) NOTHorse(Ralph) NOTDog(Ralph))\n",
      "\t\t and Horse(Harry)\n",
      "Added: (SAU NOTDog(Ralph) NOTHorse(Ralph) NOTDog(Ralph))\n",
      "resolvent: NOTDog(Ralph)/Dog(?v8){'v8': ('CONST', 'Ralph')}\n",
      "\t\t in (SAU NOTDog(Ralph) NOTHorse(Ralph) NOTDog(Ralph))\n",
      "\t\t and (SAU NOTGreyhound(?v8) Dog(?v8))\n",
      "Added: (SAU NOTHorse(Ralph) NOTGreyhound(Ralph))\n",
      "resolvent: NOTDog(Ralph)/Dog(?v8){'v8': ('CONST', 'Ralph')}\n",
      "\t\t in (SAU NOTHorse(Harry) NOTDog(Ralph) NOTHorse(Ralph) NOTDog(Ralph))\n",
      "\t\t and (SAU NOTGreyhound(?v8) Dog(?v8))\n",
      "Added: (SAU NOTHorse(Harry) NOTHorse(Ralph) NOTGreyhound(Ralph))\n",
      "resolvent: NOTHorse(Harry)/Horse(Harry){}\n",
      "\t\t in (SAU NOTHorse(Harry) NOTHorse(Ralph) NOTGreyhound(Ralph))\n",
      "\t\t and Horse(Harry)\n",
      "Added: (SAU NOTHorse(Ralph) NOTGreyhound(Ralph))\n",
      "resolvent: NOTFaster(?v4, Ralph)/Faster(<function the_greyhound at 0x7fa2ac5e4378>[], ?v6){'v6': ('CONST', 'Ralph'), 'v4': ('FUNC', (<function the_greyhound at 0x7fa2ac5e4378>, []))}\n",
      "\t\t in (SAU NOTFaster(?v4, Ralph) NOTHorse(Harry) NOTDog(?v4))\n",
      "\t\t and (SAU NOTRabbit(?v6) Faster(<function the_greyhound at 0x7fa2ac5e4378>[], ?v6))\n",
      "Added: (SAU NOTHorse(Harry) NOTDog(<function the_greyhound at 0x7fa2ac5e4378>[]) NOTRabbit(Ralph))\n",
      "resolvent: NOTHorse(Harry)/Horse(Harry){}\n",
      "\t\t in (SAU NOTHorse(Harry) NOTDog(<function the_greyhound at 0x7fa2ac5e4378>[]) NOTRabbit(Ralph))\n",
      "\t\t and Horse(Harry)\n",
      "Added: (SAU NOTDog(<function the_greyhound at 0x7fa2ac5e4378>[]) NOTRabbit(Ralph))\n",
      "resolvent: NOTRabbit(Ralph)/Rabbit(Ralph){}\n",
      "\t\t in (SAU NOTDog(<function the_greyhound at 0x7fa2ac5e4378>[]) NOTRabbit(Ralph))\n",
      "\t\t and Rabbit(Ralph)\n",
      "Added: NOTDog(<function the_greyhound at 0x7fa2ac5e4378>[])\n",
      "resolvent: NOTDog(<function the_greyhound at 0x7fa2ac5e4378>[])/Dog(?v8){'v8': ('FUNC', (<function the_greyhound at 0x7fa2ac5e4378>, []))}\n",
      "\t\t in NOTDog(<function the_greyhound at 0x7fa2ac5e4378>[])\n",
      "\t\t and (SAU NOTGreyhound(?v8) Dog(?v8))\n",
      "Added: NOTGreyhound(<function the_greyhound at 0x7fa2ac5e4378>[])\n",
      "resolvent: NOTGreyhound(<function the_greyhound at 0x7fa2ac5e4378>[])/Greyhound(<function the_greyhound at 0x7fa2ac5e4378>[]){}\n",
      "\t\t in NOTGreyhound(<function the_greyhound at 0x7fa2ac5e4378>[])\n",
      "\t\t and Greyhound(<function the_greyhound at 0x7fa2ac5e4378>[])\n",
      "Done (effort left 13)\n"
     ]
    },
    {
     "data": {
      "text/plain": [
       "True"
      ]
     },
     "execution_count": 47,
     "metadata": {},
     "output_type": "execute_result"
    }
   ],
   "source": [
    "def solve_problem(hypotheses, conclusion):\n",
    "    KB = hypotheses[:]\n",
    "    KB = [make_neg(conclusion)] + KB # puteți adăuga și la sfârșit (în funcție de strategie)\n",
    "    Effort = 30\n",
    "    \n",
    "    S = []\n",
    "    #print_KB(KB)\n",
    "    \n",
    "    while Effort > 0:\n",
    "        Effort -= 1\n",
    "        \n",
    "        # Se calculează un rezolvent, ca tuplu (Clauza1, Clauza2, Literal-din-clauza1, Literal-din-clauza2, substituție)\n",
    "        resolvent = None # TODO\n",
    "        found = False\n",
    "        for c1 in KB:\n",
    "            if found:\n",
    "                break\n",
    "            for c2 in KB:\n",
    "                if c1 != c2:\n",
    "                    res = resolves(c1, c2)\n",
    "                    if res != False:\n",
    "                        if (c1, c2) not in S:\n",
    "                            resolvent = (c1, c2, res[0], res[1], res[2])\n",
    "                            found = True\n",
    "                            break\n",
    "\n",
    "        print_r(resolvent)\n",
    "        if resolvent is None:\n",
    "            print(\"Failed (effort left \" + str(Effort) + \")\")\n",
    "            return False\n",
    "        \n",
    "        S = S + [(resolvent[0], resolvent[1])]\n",
    "        \n",
    "        # Se calculează noua clauză de adăugat și se adaugă la baza de cunoștințe\n",
    "        # Clauza trebuie să fie în acest punct o listă de literali\n",
    "        C = [] # TODO\n",
    "        if not is_literal(resolvent[0]):\n",
    "            args1 = get_args(resolvent[0])\n",
    "        else:\n",
    "            args1 = [resolvent[0]]\n",
    "        if not is_literal(resolvent[1]):\n",
    "            args2 = get_args(resolvent[1])\n",
    "        else:\n",
    "            args2 = [resolvent[1]]\n",
    "            \n",
    "        for c in args1:\n",
    "            if c != resolvent[2]:\n",
    "                subst = substitute(c, resolvent[4])\n",
    "                if subst != None:\n",
    "                    c = subst\n",
    "                #print(\"add literal\")\n",
    "                #print(c)\n",
    "                C.append(c)\n",
    "        for c in args2:\n",
    "            if c != resolvent[3]:\n",
    "                subst = substitute(c, resolvent[4])\n",
    "                if subst != None:\n",
    "                    c = subst\n",
    "                #print(\"add literal\")\n",
    "                #print(c)\n",
    "                C.append(c)\n",
    "    \n",
    "        #KB.remove(resolvent[0])\n",
    "        #KB.remove(resolvent[1])\n",
    "        \n",
    "        # update KB\n",
    "        if C == []:\n",
    "            print(\"Done (effort left \" + str(Effort) + \")\")\n",
    "            return True\n",
    "        if len(C) == 1:\n",
    "            C = C[0]\n",
    "        else:\n",
    "            C = make_or(*C)\n",
    "        print(\"Added: \" + print_formula(C, True))\n",
    "        KB = [C] + KB\n",
    "        \n",
    "        #print_KB(KB)      \n",
    "        \n",
    "#print_KB(KB_test)\n",
    "#solve_problem(deepcopy(KB_test), make_atom(\"Q\", make_const(\"A\")))\n",
    "\n",
    "#print_KB(KB_America)\n",
    "#solve_problem(deepcopy(KB_America), make_atom(\"Criminal\", make_const(\"West\")))\n",
    "\n",
    "#print_KB(KB_Faster)\n",
    "solve_problem(deepcopy(KB_Faster), make_atom(\"Faster\", make_const(\"Harry\"), make_const(\"Ralph\")))\n"
   ]
  },
  {
   "cell_type": "code",
   "execution_count": null,
   "metadata": {
    "collapsed": true
   },
   "outputs": [],
   "source": []
  }
 ],
 "metadata": {
  "anaconda-cloud": {},
  "kernelspec": {
   "display_name": "Python [default]",
   "language": "python",
   "name": "python3"
  },
  "language_info": {
   "codemirror_mode": {
    "name": "ipython",
    "version": 3
   },
   "file_extension": ".py",
   "mimetype": "text/x-python",
   "name": "python",
   "nbconvert_exporter": "python",
   "pygments_lexer": "ipython3",
   "version": "3.5.2"
  }
 },
 "nbformat": 4,
 "nbformat_minor": 0
}
